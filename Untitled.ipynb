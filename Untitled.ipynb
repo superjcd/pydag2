{
 "cells": [
  {
   "cell_type": "code",
   "execution_count": null,
   "id": "2abe3c46-b34a-4159-8fc1-49bf731707a9",
   "metadata": {},
   "outputs": [],
   "source": [
    "from pydag.task import GoCronTask\n",
    "from pydag.job import GoCronJob\n",
    "from pygocron.pygocron import PyGoCron\n",
    "\n",
    "\n",
    "tm = PyGoCron()\n",
    "job = GoCronJob(name=\"TestJob\")\n",
    "\n",
    "task1 = GoCronTask(name=\"Sync Data\", command=\"sleep 1\", task_manager=tm)  # root\n",
    "task2 = GoCronTask(name=\"Feature Engineering1\", command=\"sleep 1\", task_manager=tm)\n",
    "task3 = GoCronTask(name=\"Feature Engineering2\", command=\"sleep 1\", task_manager=tm)\n",
    "task4 = GoCronTask(name=\"Machine Learning\", command=\"sleep 1\", task_manager=tm)\n",
    "task5 = GoCronTask(name=\"Send Email\", command=\"sleep 1\", task_manager=tm)\n",
    "\n",
    "task1.set_downstream(task2)\n",
    "task1.set_downstream(task3)\n",
    "task2.set_downstream(task4)\n",
    "task3.set_downstream(task4)\n",
    "task4.set_downstream(task5)\n",
    "\n",
    "\n",
    "job.add_task(task1, task2, task3, task4, task5)"
   ]
  },
  {
   "cell_type": "markdown",
   "id": "663e3e99-4143-4869-b8fb-11869847dd58",
   "metadata": {},
   "source": [
    "job.submit()\n",
    "\n",
    "\n",
    "job.run()"
   ]
  }
 ],
 "metadata": {
  "kernelspec": {
   "display_name": "Python 3 (ipykernel)",
   "language": "python",
   "name": "python3"
  },
  "language_info": {
   "codemirror_mode": {
    "name": "ipython",
    "version": 3
   },
   "file_extension": ".py",
   "mimetype": "text/x-python",
   "name": "python",
   "nbconvert_exporter": "python",
   "pygments_lexer": "ipython3",
   "version": "3.10.4"
  }
 },
 "nbformat": 4,
 "nbformat_minor": 5
}
